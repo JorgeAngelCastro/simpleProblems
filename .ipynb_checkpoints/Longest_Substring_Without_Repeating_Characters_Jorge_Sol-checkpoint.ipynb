{
 "cells": [
  {
   "cell_type": "code",
   "execution_count": null,
   "metadata": {},
   "outputs": [],
   "source": [
    "Given a string s, find the length of the longest substring without repeating characters.\n",
    "\n",
    " \n",
    "\n",
    "Example 1:\n",
    "\n",
    "Input: s = \"abcabcbb\"\n",
    "Output: 3\n",
    "Explanation: The answer is \"abc\", with the length of 3.\n",
    "Example 2:\n",
    "\n",
    "Input: s = \"bbbbb\"\n",
    "Output: 1\n",
    "Explanation: The answer is \"b\", with the length of 1.\n",
    "Example 3:\n",
    "\n",
    "Input: s = \"pwwkew\"\n",
    "Output: 3\n",
    "Explanation: The answer is \"wke\", with the length of 3.\n",
    "Notice that the answer must be a substring, \"pwke\" is a subsequence and not a substring.\n",
    "Example 4:\n",
    "\n",
    "Input: s = \"\"\n",
    "Output: 0\n",
    " \n",
    "\n",
    "Constraints:\n",
    "\n",
    "0 <= s.length <= 5 * 104\n",
    "s consists of English letters, digits, symbols and spaces."
   ]
  },
  {
   "cell_type": "code",
   "execution_count": null,
   "metadata": {},
   "outputs": [],
   "source": [
    "#low efficiency\n",
    "def lengthOfLongestSubstring(self, s: str) -> int:\n",
    "        curr = \"\"\n",
    "        charSet = set()\n",
    "        lengthOfSub = 0\n",
    "        bestSoFar = \"\"\n",
    "        subDict = {}\n",
    "        i = 0\n",
    "        \n",
    "        if len(s) == 0:\n",
    "            return 0\n",
    "        if len(s) == 1:\n",
    "            return 1\n",
    "        \n",
    "        while i < len(s):\n",
    "            if i == (len(s) - 1) and s[i] not in charSet:\n",
    "                curr += s[i]\n",
    "                lengthOfSub = len(curr)\n",
    "                sub = curr\n",
    "                subDict[sub] = lengthOfSub\n",
    "                i += 1\n",
    "            elif s[i] not in charSet:\n",
    "                charSet.add(s[i])\n",
    "                curr += s[i]\n",
    "                i += 1\n",
    "            else:\n",
    "                lengthOfSub = len(curr)\n",
    "                sub = curr\n",
    "                subDict[sub] = lengthOfSub\n",
    "                i = (i - len(curr)) + 1\n",
    "                charSet = set()\n",
    "                curr = \"\"\n",
    "            \n",
    "        return max(subDict.values())"
   ]
  },
  {
   "cell_type": "code",
   "execution_count": 4,
   "metadata": {},
   "outputs": [],
   "source": [
    "#significantly more efficient than first attempt but still fairly inefficient\n",
    "def lengthOfLongestSubString(self, s: str) -> int:\n",
    "    curr = \"\"\n",
    "    charSet = set()\n",
    "    lengthOfSub = 0\n",
    "    bestSoFar = \"\"\n",
    "    subDict = {}\n",
    "    i = 0\n",
    "    \n",
    "    if len(s) == 0:\n",
    "            return 0\n",
    "    if len(s) == 1:\n",
    "            return 1\n",
    "    \n",
    "    while i < len(s):\n",
    "        if i == (len(s) - 1) and s[i] not in charSet:\n",
    "            curr += s[i]\n",
    "            lengthOfSub = len(curr)\n",
    "            sub = curr\n",
    "            subDict[sub] = lengthOfSub\n",
    "            i += 1\n",
    "        elif s[i] not in charSet:\n",
    "            charSet.add(s[i])\n",
    "            curr += s[i]\n",
    "            i += 1\n",
    "        else:\n",
    "            lengthOfSub = len(curr)\n",
    "            sub = curr\n",
    "            subDict[sub] = lengthOfSub\n",
    "            curr = curr[(curr.find(s[i]) + 1):]\n",
    "            charSet.remove(s[i])\n",
    "    return max(subDict.values())\n",
    "    "
   ]
  },
  {
   "cell_type": "code",
   "execution_count": 3,
   "metadata": {},
   "outputs": [
    {
     "data": {
      "text/plain": [
       "'lo'"
      ]
     },
     "execution_count": 3,
     "metadata": {},
     "output_type": "execute_result"
    }
   ],
   "source": [
    "s = \"hello\"\n",
    "s[s.find(\"l\") +1:]"
   ]
  },
  {
   "cell_type": "code",
   "execution_count": null,
   "metadata": {},
   "outputs": [],
   "source": [
    "#found on forum, highly efficient\n",
    "def lengthOfLongestSubString(self, s: str) -> int:\n",
    "    max_len, start = 0, 0\n",
    "    used = {}\n",
    "    for i, ch in enumerate(s):\n",
    "        if ch in used:\n",
    "            max_len = max(max_len, i - start)\n",
    "            start = max(start, used[ch] + 1)\n",
    "        used[ch] = i\n",
    "    return max(max_len, len(s) - start)"
   ]
  }
 ],
 "metadata": {
  "kernelspec": {
   "display_name": "Python 3",
   "language": "python",
   "name": "python3"
  },
  "language_info": {
   "codemirror_mode": {
    "name": "ipython",
    "version": 3
   },
   "file_extension": ".py",
   "mimetype": "text/x-python",
   "name": "python",
   "nbconvert_exporter": "python",
   "pygments_lexer": "ipython3",
   "version": "3.8.3"
  }
 },
 "nbformat": 4,
 "nbformat_minor": 4
}
