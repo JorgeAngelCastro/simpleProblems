{
 "cells": [
  {
   "cell_type": "markdown",
   "metadata": {},
   "source": [
    "Roman numerals are represented by seven different symbols: I, V, X, L, C, D and M.\n",
    "\n",
    "Symbol       Value\n",
    "I             1\n",
    "V             5\n",
    "X             10\n",
    "L             50\n",
    "C             100\n",
    "D             500\n",
    "M             1000\n",
    "For example, 2 is written as II in Roman numeral, just two one's added together. 12 is written as XII, which is simply X + II. The number 27 is written as XXVII, which is XX + V + II.\n",
    "\n",
    "Roman numerals are usually written largest to smallest from left to right. However, the numeral for four is not IIII. Instead, the number four is written as IV. Because the one is before the five we subtract it making four. The same principle applies to the number nine, which is written as IX. There are six instances where subtraction is used:\n",
    "\n",
    "I can be placed before V (5) and X (10) to make 4 and 9. \n",
    "X can be placed before L (50) and C (100) to make 40 and 90. \n",
    "C can be placed before D (500) and M (1000) to make 400 and 900.\n",
    "Given a roman numeral, convert it to an integer.\n",
    "\n",
    " \n",
    "\n",
    "Example 1:\n",
    "\n",
    "Input: s = \"III\"\n",
    "Output: 3\n",
    "Example 2:\n",
    "\n",
    "Input: s = \"IV\"\n",
    "Output: 4\n",
    "Example 3:\n",
    "\n",
    "Input: s = \"IX\"\n",
    "Output: 9\n",
    "Example 4:\n",
    "\n",
    "Input: s = \"LVIII\"\n",
    "Output: 58\n",
    "Explanation: L = 50, V= 5, III = 3.\n",
    "Example 5:\n",
    "\n",
    "Input: s = \"MCMXCIV\"\n",
    "Output: 1994\n",
    "Explanation: M = 1000, CM = 900, XC = 90 and IV = 4.\n",
    " \n",
    "\n",
    "Constraints:\n",
    "\n",
    "1 <= s.length <= 15\n",
    "s contains only the characters ('I', 'V', 'X', 'L', 'C', 'D', 'M').\n",
    "It is guaranteed that s is a valid roman numeral in the range [1, 3999]."
   ]
  },
  {
   "cell_type": "code",
   "execution_count": 63,
   "metadata": {},
   "outputs": [],
   "source": [
    "def romanToInteger(s):\n",
    "    #The first step is to think of the edge cases, exceptions.\n",
    "    #In this problem, we have a consistent replacement of numerals to numbers for everything but 6 instances.\n",
    "    #Those instances are specified in the problem and we will start with setting those up.\n",
    "    #The strings \"IV\", \"IX\", \"XL\", \"XC\", \"CD\", and \"CM\" are the only given exceptions.\n",
    "    \n",
    "    #initializes variables\n",
    "    exceptions = {\"IV\":4, \"IX\":9, \"XL\":40, \"XC\":90, \"CD\":400, \"CM\":900}\n",
    "    excepSum = 0\n",
    "    generics = {\"I\":1,\"V\":5,\"X\":10,\"L\":50,\"C\":100,\"D\":500,\"M\":1000}\n",
    "    genericSum = 0\n",
    "    \n",
    "    #takes care of exceptions and converts exceptions into integers and sums them into a variable\n",
    "    for exception, conversion in exceptions.items():\n",
    "        if exception in s:\n",
    "            excepSum += conversion\n",
    "            s = s.replace(exception, \"\")\n",
    "    \n",
    "    #converts numeral values into integers and sums them into a variable\n",
    "    for numeral, conversionValueOfNumeral in generics.items():\n",
    "        howManyOfThatNumeral = s.count(numeral)\n",
    "        totalNumeralValue = howManyOfThatNumeral * conversionValueOfNumeral\n",
    "        genericSum += totalNumeralValue\n",
    "    \n",
    "    #sums the two variables from the numerals and the exceptions\n",
    "    totalSum = genericSum + excepSum\n",
    "    return totalSum\n",
    "        "
   ]
  },
  {
   "cell_type": "code",
   "execution_count": 64,
   "metadata": {},
   "outputs": [
    {
     "data": {
      "text/plain": [
       "1994"
      ]
     },
     "execution_count": 64,
     "metadata": {},
     "output_type": "execute_result"
    }
   ],
   "source": [
    "s = \"MCMXCIV\"\n",
    "romanToInteger(s)"
   ]
  },
  {
   "cell_type": "code",
   "execution_count": null,
   "metadata": {},
   "outputs": [],
   "source": []
  }
 ],
 "metadata": {
  "kernelspec": {
   "display_name": "Python 3",
   "language": "python",
   "name": "python3"
  },
  "language_info": {
   "codemirror_mode": {
    "name": "ipython",
    "version": 3
   },
   "file_extension": ".py",
   "mimetype": "text/x-python",
   "name": "python",
   "nbconvert_exporter": "python",
   "pygments_lexer": "ipython3",
   "version": "3.8.3"
  }
 },
 "nbformat": 4,
 "nbformat_minor": 4
}
