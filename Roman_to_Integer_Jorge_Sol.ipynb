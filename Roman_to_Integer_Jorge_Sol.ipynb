{
 "cells": [
  {
   "cell_type": "markdown",
   "metadata": {},
   "source": [
    "Roman numerals are represented by seven different symbols: I, V, X, L, C, D and M.\n",
    "\n",
    "Symbol       Value\n",
    "I             1\n",
    "V             5\n",
    "X             10\n",
    "L             50\n",
    "C             100\n",
    "D             500\n",
    "M             1000\n",
    "For example, 2 is written as II in Roman numeral, just two one's added together. 12 is written as XII, which is simply X + II. The number 27 is written as XXVII, which is XX + V + II.\n",
    "\n",
    "Roman numerals are usually written largest to smallest from left to right. However, the numeral for four is not IIII. Instead, the number four is written as IV. Because the one is before the five we subtract it making four. The same principle applies to the number nine, which is written as IX. There are six instances where subtraction is used:\n",
    "\n",
    "I can be placed before V (5) and X (10) to make 4 and 9. \n",
    "X can be placed before L (50) and C (100) to make 40 and 90. \n",
    "C can be placed before D (500) and M (1000) to make 400 and 900.\n",
    "Given a roman numeral, convert it to an integer.\n",
    "\n",
    " \n",
    "\n",
    "Example 1:\n",
    "\n",
    "Input: s = \"III\"\n",
    "Output: 3\n",
    "Example 2:\n",
    "\n",
    "Input: s = \"IV\"\n",
    "Output: 4\n",
    "Example 3:\n",
    "\n",
    "Input: s = \"IX\"\n",
    "Output: 9\n",
    "Example 4:\n",
    "\n",
    "Input: s = \"LVIII\"\n",
    "Output: 58\n",
    "Explanation: L = 50, V= 5, III = 3.\n",
    "Example 5:\n",
    "\n",
    "Input: s = \"MCMXCIV\"\n",
    "Output: 1994\n",
    "Explanation: M = 1000, CM = 900, XC = 90 and IV = 4.\n",
    " \n",
    "\n",
    "Constraints:\n",
    "\n",
    "1 <= s.length <= 15\n",
    "s contains only the characters ('I', 'V', 'X', 'L', 'C', 'D', 'M').\n",
    "It is guaranteed that s is a valid roman numeral in the range [1, 3999]."
   ]
  },
  {
   "cell_type": "code",
   "execution_count": 63,
   "metadata": {},
   "outputs": [],
   "source": [
    "def romanToInteger(s):\n",
    "    #The first step is to think of the edge cases, exceptions.\n",
    "    #In this problem, we have a consistent replacement of numerals to numbers for everything but 6 instances.\n",
    "    #Those instances are specified in the problem and we will start with setting those up.\n",
    "    #The strings \"IV\", \"IX\", \"XL\", \"XC\", \"CD\", and \"CM\" are the only given exceptions.\n",
    "    \n",
    "    #initializes variables\n",
    "    exceptions = {\"IV\":4, \"IX\":9, \"XL\":40, \"XC\":90, \"CD\":400, \"CM\":900}\n",
    "    excepSum = 0\n",
    "    generics = {\"I\":1,\"V\":5,\"X\":10,\"L\":50,\"C\":100,\"D\":500,\"M\":1000}\n",
    "    genericSum = 0\n",
    "    \n",
    "    #takes care of exceptions and converts exceptions into integers and sums them into a variable\n",
    "    for exception, conversion in exceptions.items():\n",
    "        if exception in s:\n",
    "            excepSum += conversion\n",
    "            s = s.replace(exception, \"\")\n",
    "    \n",
    "    #converts numeral values into integers and sums them into a variable\n",
    "    for numeral, conversionValueOfNumeral in generics.items():\n",
    "        howManyOfThatNumeral = s.count(numeral)\n",
    "        totalNumeralValue = howManyOfThatNumeral * conversionValueOfNumeral\n",
    "        genericSum += totalNumeralValue\n",
    "    \n",
    "    #sums the two variables from the numerals and the exceptions\n",
    "    totalSum = genericSum + excepSum\n",
    "    return totalSum\n",
    "        "
   ]
  },
  {
   "cell_type": "code",
   "execution_count": 64,
   "metadata": {},
   "outputs": [
    {
     "data": {
      "text/plain": [
       "1994"
      ]
     },
     "execution_count": 64,
     "metadata": {},
     "output_type": "execute_result"
    }
   ],
   "source": [
    "s = \"MCMXCIV\"\n",
    "romanToInteger(s)"
   ]
  },
  {
   "cell_type": "code",
   "execution_count": 35,
   "metadata": {},
   "outputs": [],
   "source": [
    "#most efficient so far\n",
    "def romanToInteger(s):\n",
    "    generics = {\"I\":1,\"V\":5,\"X\":10,\"L\":50,\"C\":100,\"D\":500,\"M\":1000}\n",
    "    i = 1\n",
    "    totalSum = 0\n",
    "\n",
    "    while i <= len(s):\n",
    "\n",
    "        valAtIndex = generics[s[-i]]\n",
    "        if i + 1 <= len(s):\n",
    "            prevValAtIndex = generics[s[-i -1]]\n",
    "        else:\n",
    "            totalSum += valAtIndex\n",
    "            break\n",
    "        if valAtIndex > prevValAtIndex:\n",
    "            valAtIndex -= prevValAtIndex\n",
    "            i += 1\n",
    "\n",
    "        totalSum += valAtIndex\n",
    "        i += 1\n",
    "        \n",
    "    return totalSum"
   ]
  },
  {
   "cell_type": "code",
   "execution_count": 36,
   "metadata": {},
   "outputs": [
    {
     "data": {
      "text/plain": [
       "2999"
      ]
     },
     "execution_count": 36,
     "metadata": {},
     "output_type": "execute_result"
    }
   ],
   "source": [
    "s = 'MMCMXCIX'\n",
    "romanToInteger(s)"
   ]
  },
  {
   "cell_type": "code",
   "execution_count": 313,
   "metadata": {},
   "outputs": [],
   "source": [
    "#super inefficient\n",
    "def romanToInteger(s):\n",
    "    exceptions = {\"IV\":4, \"IX\":9, \"XL\":40, \"XC\":90, \"CD\":400, \"CM\":900}\n",
    "    total = 0\n",
    "    replaced = s.replace(\"IV\", \",IV,\")\n",
    "    replaced = replaced.replace(\"IX\", \",IX,\")\n",
    "    replaced = replaced.replace(\"XL\", \",XL,\")\n",
    "    replaced = replaced.replace(\"XC\", \",XC,\")\n",
    "    replaced = replaced.replace(\"CD\", \",CD,\")\n",
    "    replaced = replaced.replace(\"CM\", \",CM,\")\n",
    "\n",
    "    print(replaced)\n",
    "    foundExcep = replaced.split(\",\")\n",
    "    print(foundExcep)\n",
    "    foundExcep = filter(None, foundExcep)\n",
    "    foundExcep = filter(bool, foundExcep)\n",
    "    foundExcep = filter(len, foundExcep)\n",
    "    foundExcep = list(filter(lambda item: item, foundExcep))\n",
    "    print(foundExcep)\n",
    "    i = 0\n",
    "    while i < len(foundExcep):\n",
    "        if foundExcep[i] not in exceptions.keys() and len(foundExcep)>1 and (foundExcep[0] \n",
    "        not in exceptions.keys()) and foundExcep[i] != foundExcep[0]:\n",
    "            foundExcep[0] = foundExcep[0] + foundExcep[i]\n",
    "            foundExcep.remove(foundExcep[i])\n",
    "            print(\"this happened\")\n",
    "        elif foundExcep[0] in exceptions.keys(): \n",
    "            print(foundExcep[0])\n",
    "            print(\"yes\")\n",
    "            temp = foundExcep[i]\n",
    "            foundExcep[i] = foundExcep[0]\n",
    "            foundExcep[0] = temp\n",
    "        i += 1\n",
    "    print(foundExcep)\n",
    "    if foundExcep[0] not in exceptions.keys():\n",
    "        nonExcep = foundExcep[0]\n",
    "        print(nonExcep)\n",
    "        foundExcep = foundExcep[1:]\n",
    "        total += nonExcep.count(\"M\")*1000\n",
    "        total += nonExcep.count(\"D\")*500\n",
    "        total += nonExcep.count(\"C\")*100\n",
    "        total += nonExcep.count(\"L\")*50\n",
    "        total += nonExcep.count(\"X\")*10\n",
    "        total += nonExcep.count(\"V\")*5\n",
    "        total += nonExcep.count(\"I\")*1\n",
    "    i = 0\n",
    "    while i<len(foundExcep):\n",
    "\n",
    "        if foundExcep[i] not in exceptions.keys():\n",
    "            foundExcep[0] = foundExcep[0] + foundExcep[i]\n",
    "            foundExcep.remove(foundExcep[i])\n",
    "            print(foundExcep)\n",
    "        total += exceptions[foundExcep[i]]\n",
    "\n",
    "        i += 1\n",
    "\n",
    "\n",
    "\n",
    "    return total"
   ]
  },
  {
   "cell_type": "code",
   "execution_count": 314,
   "metadata": {},
   "outputs": [
    {
     "name": "stdout",
     "output_type": "stream",
     "text": [
      ",CM,LII\n",
      "['', 'CM', 'LII']\n",
      "['CM', 'LII']\n",
      "CM\n",
      "yes\n",
      "CM\n",
      "yes\n",
      "['LII', 'CM']\n",
      "LII\n"
     ]
    },
    {
     "data": {
      "text/plain": [
       "952"
      ]
     },
     "execution_count": 314,
     "metadata": {},
     "output_type": "execute_result"
    }
   ],
   "source": [
    "s = \"CMLII\"\n",
    "romanToInteger(s)"
   ]
  },
  {
   "cell_type": "code",
   "execution_count": 315,
   "metadata": {},
   "outputs": [
    {
     "name": "stdout",
     "output_type": "stream",
     "text": [
      "M,CM,,XC,,IV,\n",
      "['M', 'CM', '', 'XC', '', 'IV', '']\n",
      "['M', 'CM', 'XC', 'IV']\n",
      "['M', 'CM', 'XC', 'IV']\n",
      "M\n"
     ]
    },
    {
     "data": {
      "text/plain": [
       "1994"
      ]
     },
     "execution_count": 315,
     "metadata": {},
     "output_type": "execute_result"
    }
   ],
   "source": [
    "\n",
    "s = \"MCMXCIV\"\n",
    "romanToInteger(s)"
   ]
  },
  {
   "cell_type": "code",
   "execution_count": 316,
   "metadata": {},
   "outputs": [
    {
     "name": "stdout",
     "output_type": "stream",
     "text": [
      "MM,CM,LX,IV,\n",
      "['MM', 'CM', 'LX', 'IV', '']\n",
      "['MM', 'CM', 'LX', 'IV']\n",
      "this happened\n",
      "['MMLX', 'CM', 'IV']\n",
      "MMLX\n"
     ]
    },
    {
     "data": {
      "text/plain": [
       "2964"
      ]
     },
     "execution_count": 316,
     "metadata": {},
     "output_type": "execute_result"
    }
   ],
   "source": [
    "\n",
    "\n",
    "s = \"MMCMLXIV\"\n",
    "romanToInteger(s)"
   ]
  },
  {
   "cell_type": "code",
   "execution_count": 339,
   "metadata": {},
   "outputs": [],
   "source": [
    "#still not super efficient\n",
    "def romanToInteger(s):\n",
    "    exceptions = {\"IV\":4, \"IX\":9, \"XL\":40, \"XC\":90, \"CD\":400, \"CM\":900}\n",
    "    generics = {\"I\":1,\"V\":5,\"X\":10,\"L\":50,\"C\":100,\"D\":500,\"M\":1000}\n",
    "    total = 0\n",
    "    replaced = s.replace(\"IV\", \"4\")\n",
    "    replaced = replaced.replace(\"IX\", \"9\")\n",
    "    replaced = replaced.replace(\"XL\", \"40\")\n",
    "    replaced = replaced.replace(\"XC\", \"90\")\n",
    "    replaced = replaced.replace(\"CD\", \"400\")\n",
    "    replaced = replaced.replace(\"CM\", \"900\")\n",
    "    replaced = replaced.replace(\"I\", \"1\")\n",
    "    replaced = replaced.replace(\"V\", \"5\")\n",
    "    replaced = replaced.replace(\"X\", \"10\")\n",
    "    replaced = replaced.replace(\"L\", \"50\")\n",
    "    replaced = replaced.replace(\"C\", \"100\")\n",
    "    replaced = replaced.replace(\"D\", \"500\")\n",
    "    replaced = replaced.replace(\"M\", \"1000\")\n",
    "    total += replaced.count(\"1000\")*1000\n",
    "    replaced = replaced.replace(\"1000\",\"\")\n",
    "    total += replaced.count(\"900\")*900\n",
    "    replaced = replaced.replace(\"900\",\"\")\n",
    "    total += replaced.count(\"500\")*500\n",
    "    replaced = replaced.replace(\"500\",\"\")\n",
    "    total += replaced.count(\"400\")*400\n",
    "    replaced = replaced.replace(\"400\",\"\")\n",
    "    total += replaced.count(\"100\")*100\n",
    "    replaced = replaced.replace(\"100\",\"\")\n",
    "    total += replaced.count(\"90\")*90\n",
    "    replaced = replaced.replace(\"90\",\"\")\n",
    "    total += replaced.count(\"50\")*50\n",
    "    replaced = replaced.replace(\"50\",\"\")\n",
    "    total += replaced.count(\"40\")*40\n",
    "    replaced = replaced.replace(\"40\",\"\")\n",
    "    total += replaced.count(\"10\")*10\n",
    "    replaced = replaced.replace(\"10\",\"\")\n",
    "    total += replaced.count(\"9\")*9\n",
    "    replaced = replaced.replace(\"9\",\"\")\n",
    "    total += replaced.count(\"5\")*5\n",
    "    replaced = replaced.replace(\"5\",\"\")\n",
    "    total += replaced.count(\"4\")*4\n",
    "    replaced = replaced.replace(\"4\",\"\")\n",
    "    total += replaced.count(\"1\")*1\n",
    "    replaced = replaced.replace(\"1\",\"\")\n",
    "    \n",
    "\n",
    "    return total"
   ]
  },
  {
   "cell_type": "code",
   "execution_count": 340,
   "metadata": {},
   "outputs": [
    {
     "data": {
      "text/plain": [
       "2964"
      ]
     },
     "execution_count": 340,
     "metadata": {},
     "output_type": "execute_result"
    }
   ],
   "source": [
    "\n",
    "s = \"MMCMLXIV\"\n",
    "romanToInteger(s)"
   ]
  },
  {
   "cell_type": "code",
   "execution_count": 343,
   "metadata": {},
   "outputs": [],
   "source": [
    "#moderately efficient\n",
    "def romanToInteger(s):\n",
    "    exceptions = {\"IV\":4, \"IX\":9, \"XL\":40, \"XC\":90, \"CD\":400, \"CM\":900}\n",
    "    generics = {\"I\":1,\"V\":5,\"X\":10,\"L\":50,\"C\":100,\"D\":500,\"M\":1000}\n",
    "    total = 0\n",
    "    replaced = s.replace(\"IV\", \"a\")\n",
    "    replaced = replaced.replace(\"IX\", \"b\")\n",
    "    replaced = replaced.replace(\"XL\", \"c\")\n",
    "    replaced = replaced.replace(\"XC\", \"d\")\n",
    "    replaced = replaced.replace(\"CD\", \"e\")\n",
    "    replaced = replaced.replace(\"CM\", \"f\")\n",
    "\n",
    "    rs = set(replaced)\n",
    "    \n",
    "    if \"a\" in rs:\n",
    "        total += 4\n",
    "    if \"b\" in rs:\n",
    "        total += 9\n",
    "    if \"c\" in rs:\n",
    "        total += 40\n",
    "    if \"d\" in rs:\n",
    "        total += 90\n",
    "    if \"e\" in rs:\n",
    "        total += 400\n",
    "    if \"f\" in rs:\n",
    "        total += 900\n",
    "    total += replaced.count(\"M\")*1000\n",
    "    total += replaced.count(\"D\")*500\n",
    "    total += replaced.count(\"C\")*100\n",
    "    total += replaced.count(\"L\")*50\n",
    "    total += replaced.count(\"X\")*10\n",
    "    total += replaced.count(\"V\")*5\n",
    "    total += replaced.count(\"I\")*1\n",
    "    \n",
    "    return total"
   ]
  },
  {
   "cell_type": "code",
   "execution_count": 344,
   "metadata": {},
   "outputs": [
    {
     "data": {
      "text/plain": [
       "2964"
      ]
     },
     "execution_count": 344,
     "metadata": {},
     "output_type": "execute_result"
    }
   ],
   "source": [
    "s = \"MMCMLXIV\"\n",
    "romanToInteger(s)"
   ]
  },
  {
   "cell_type": "code",
   "execution_count": null,
   "metadata": {},
   "outputs": [],
   "source": []
  }
 ],
 "metadata": {
  "kernelspec": {
   "display_name": "Python 3",
   "language": "python",
   "name": "python3"
  },
  "language_info": {
   "codemirror_mode": {
    "name": "ipython",
    "version": 3
   },
   "file_extension": ".py",
   "mimetype": "text/x-python",
   "name": "python",
   "nbconvert_exporter": "python",
   "pygments_lexer": "ipython3",
   "version": "3.8.3"
  }
 },
 "nbformat": 4,
 "nbformat_minor": 4
}
